{
 "cells": [
  {
   "cell_type": "markdown",
   "metadata": {},
   "source": [
    "# A@W Python Exercises\n",
    "This Jupyter Noteboopk contains exercises using the Superstore dataset that will help you practice exploring, cleaning, and exporting data with Python in preparation for your Deloitte internship."
   ]
  },
  {
   "cell_type": "markdown",
   "metadata": {},
   "source": [
    "## Getting Started: Importing Dependencies and Data\n",
    "Note: the Numpy library is a commonly used and helpful one for data analysis and manipulation, so while it is not necessary for the below coding exercises, there is a commented-out line for importing it below for your reference."
   ]
  },
  {
   "cell_type": "code",
   "execution_count": null,
   "metadata": {},
   "outputs": [],
   "source": [
    "# Dependencies\n",
    "import os\n",
    "import pandas as pd\n",
    "# import numpy as np"
   ]
  },
  {
   "cell_type": "markdown",
   "metadata": {},
   "source": [
    "## Importing Data"
   ]
  },
  {
   "cell_type": "markdown",
   "metadata": {},
   "source": [
    "### Example: Importing data files"
   ]
  },
  {
   "cell_type": "code",
   "execution_count": null,
   "metadata": {},
   "outputs": [],
   "source": [
    "# Read in CSVs with raw data\n",
    "ss_orders_path = os.path.join('raw-data', 'Global-Superstore_orders.csv')\n",
    "ss_returns_path = os.path.join('raw-data', 'Global-Superstore_returns.csv')\n",
    "\n",
    "ss_orders_df = pd.read_csv(ss_orders_path, encoding = 'ISO-8859-1')\n",
    "ss_returns_df = pd.read_csv(ss_returns_path)"
   ]
  },
  {
   "cell_type": "code",
   "execution_count": null,
   "metadata": {},
   "outputs": [],
   "source": [
    "# Preview Orders data:\n",
    "ss_orders_df.head()"
   ]
  },
  {
   "cell_type": "code",
   "execution_count": null,
   "metadata": {},
   "outputs": [],
   "source": [
    "# Preview Returns data:\n",
    "ss_returns_df.head()"
   ]
  },
  {
   "cell_type": "markdown",
   "metadata": {},
   "source": [
    "### Knowledge Check: What happens if we omit the encoding='ISO-8859-1' parameter above when creading the ss_orders_df DataFrame? Why does this happen? Type your answer in the empty block below."
   ]
  },
  {
   "cell_type": "markdown",
   "metadata": {},
   "source": [
    "Answer: "
   ]
  },
  {
   "cell_type": "markdown",
   "metadata": {},
   "source": [
    "### Practice: Importing Data\n",
    "Write your own code in the below empty code block to import the sample coffee chain data. Make sure to preview your data to verify that it imported correctly."
   ]
  },
  {
   "cell_type": "code",
   "execution_count": null,
   "metadata": {},
   "outputs": [],
   "source": []
  },
  {
   "cell_type": "markdown",
   "metadata": {},
   "source": [
    "## Combining Data\n",
    "Now that you've imported your data, the next step is to combine your data. This will enable you to later make direct comparisons and observations about your data sets."
   ]
  },
  {
   "cell_type": "markdown",
   "metadata": {},
   "source": [
    "### Example: Manipulating DataFrame Columns"
   ]
  },
  {
   "cell_type": "code",
   "execution_count": null,
   "metadata": {},
   "outputs": [],
   "source": [
    "# Add a column called \"Merchant\" to ss_df that specifies that each of these records represents\n",
    "# Superstore data. This will be useful later when we combine the data with the Coffee Chain data.\n",
    "ss_orders_df['Merchant'] = 'Superstore'\n",
    "\n",
    "# Notice that the product name field is called \"Product Name\" in the Superstore data, but just\n",
    "# \"Product\" in the Coffee Chain data.\n",
    "# We can resolve this discrepancy and more cleanly combine the data if we make these column\n",
    "# names match beforehand:\n",
    "ss_orders_df.rename(columns={'Product Name':'Product'}, inplace=True)\n",
    "ss_orders_df.head()"
   ]
  },
  {
   "cell_type": "markdown",
   "metadata": {},
   "source": [
    "### Knowledge Check: What does the inplace=True parameter do in the above code? What would we need to change about our code if we ommitted it? Type your answer in the empty block below."
   ]
  },
  {
   "cell_type": "markdown",
   "metadata": {},
   "source": [
    "Answer: "
   ]
  },
  {
   "cell_type": "markdown",
   "metadata": {},
   "source": [
    "### Practice: Manipulating DataFrame Columns\n",
    "In the Coffee Chain DataFrame, create a column called \"Merchant\" and fill it with the value \"Coffee Chain\".\n",
    "\n",
    "Additionally, rename the following columns in the Coffee Chain DataFrame so they are consistent with corresponding columns in the Superstore DataFrame:\n",
    "\n",
    "- Order Number (Rename as Order ID)\n",
    "- Date (Rename as Order Date)\n",
    "- Product Id (Rename as Product ID)\n",
    "\n",
    "Make sure to preview your data to verify that all changes were made successfully.\n",
    "\n",
    "Note that the order numbers are formatted differently in each table, so there is no risk of accidentally combining order IDs from the two merchants; each record will continue to have a unique identifier after we combine the two data sets later."
   ]
  },
  {
   "cell_type": "code",
   "execution_count": null,
   "metadata": {},
   "outputs": [],
   "source": []
  },
  {
   "cell_type": "markdown",
   "metadata": {},
   "source": [
    "### Example: Combining data from two tables"
   ]
  },
  {
   "cell_type": "code",
   "execution_count": null,
   "metadata": {},
   "outputs": [],
   "source": [
    "# Merge Superstore data into a single dataframe and preview.\n",
    "ss_df = pd.merge(ss_orders_df, ss_returns_df, on='Order ID', how='left')\n",
    "ss_df.head()"
   ]
  },
  {
   "cell_type": "markdown",
   "metadata": {},
   "source": [
    "### Knowledge Check: What would happen if we left how='left' out of the above code? Type your answer in the empty block below."
   ]
  },
  {
   "cell_type": "markdown",
   "metadata": {},
   "source": [
    "Answer: "
   ]
  },
  {
   "cell_type": "markdown",
   "metadata": {},
   "source": [
    "### Practice: Combining data from two tables\n",
    "Write your own code in the below empty code block to:\n",
    "1) Add a column called \"Merchant\" to your Coffee Chain DataFrame that contains the value \"Coffee Chain\" for each record.\n",
    "2) Create a new DataFrame that includes data from ss_df and the coffee chain data.\n",
    "3) Preview your data to verify that you successfully combined the data."
   ]
  },
  {
   "cell_type": "code",
   "execution_count": null,
   "metadata": {},
   "outputs": [],
   "source": []
  },
  {
   "cell_type": "markdown",
   "metadata": {},
   "source": [
    "## Cleaning Data\n",
    "The last step before you can begin analyzing your data is to clean it up. For example, it is common to drop records with NA values for important fields, or to fill those NA values with meaninful data."
   ]
  },
  {
   "cell_type": "markdown",
   "metadata": {},
   "source": [
    "### Example: Dealing with NA values"
   ]
  },
  {
   "cell_type": "code",
   "execution_count": null,
   "metadata": {},
   "outputs": [],
   "source": [
    "sales_df['Returned'].fillna('No', inplace=True)\n",
    "sales_df['Returned']"
   ]
  },
  {
   "cell_type": "markdown",
   "metadata": {},
   "source": [
    "### Practice: Dealing with NA values\n",
    "Fill the NaN values in the \"Number of Records\" column with the number 1. Make sure to preview your data to verify that your change has been made successfully."
   ]
  },
  {
   "cell_type": "code",
   "execution_count": null,
   "metadata": {},
   "outputs": [],
   "source": []
  },
  {
   "cell_type": "markdown",
   "metadata": {},
   "source": [
    "### Bonus Practice: Cleaning data\n",
    "What other things might we do to clean the data before using it for data analysis? Try researching on your own how to drop unnecessary columns from Pandas DataFrames or play around with anything else that might be helpful before exporting your data for use in developing your Tableau dashboard. Explore and have fun!"
   ]
  },
  {
   "cell_type": "code",
   "execution_count": null,
   "metadata": {},
   "outputs": [],
   "source": []
  },
  {
   "cell_type": "markdown",
   "metadata": {},
   "source": [
    "## Exporting Data\n",
    "Now that your data is cleaned and ready to be used in Tableau, we need to export it into a new CSV."
   ]
  },
  {
   "cell_type": "markdown",
   "metadata": {},
   "source": [
    "### Practice: Exporting data\n",
    "Export your cleaned data to a CSV in the \"output\" folder. Give your CSV a file name that clearly indicates that it is cleaned data."
   ]
  },
  {
   "cell_type": "code",
   "execution_count": null,
   "metadata": {},
   "outputs": [],
   "source": []
  }
 ],
 "metadata": {
  "kernelspec": {
   "display_name": "Python 3",
   "language": "python",
   "name": "python3"
  },
  "language_info": {
   "codemirror_mode": {
    "name": "ipython",
    "version": 3
   },
   "file_extension": ".py",
   "mimetype": "text/x-python",
   "name": "python",
   "nbconvert_exporter": "python",
   "pygments_lexer": "ipython3",
   "version": "3.8.5"
  }
 },
 "nbformat": 4,
 "nbformat_minor": 2
}
